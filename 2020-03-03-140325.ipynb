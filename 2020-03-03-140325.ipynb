{
 "cells": [
  {
   "cell_type": "markdown",
   "metadata": {
    "collapsed": false
   },
   "source": [
    "# Stratified Random Sampling - European Parties - European Committee of the Regions - Policy Incubator Project 2020\n",
    "# (This is a partial revision of the [initial](https://github.com/Jacobs007/Stratified-Random-Sampling/blob/master/Stratified%20Random%20Sampling%20for%20Small-N%20StudiesV2.ipynb) process)\n",
    "\n",
    "## *London School of Economics and Political Science*\n",
    "\n",
    "\n",
    "### *European Institute*\n",
    "\n",
    "#### Authors:\n",
    "- Tim Jacobs\n",
    "- Hande Taner\n",
    "- Nicole Lawler\n",
    "- Christian Zörner\n",
    "\n",
    "\n",
    "\n",
    "**Disclaimer:**\n",
    "\n",
    "This online appendix is part of a research project in cooperation with the *European Committee of the Regions*. Any views expressed in this research do not necessarily reflect those of the European Committee of the Regions. While writing this research, no author declared to have conflict of interest with the European Committee of the Regions nor any other organisation. We are grateful for the constructive comments of our project-supervisor Dr Miriam Sorace, but would like to emphasize that any error is the sole responsibility of the authors."
   ]
  },
  {
   "cell_type": "markdown",
   "metadata": {
    "collapsed": false
   },
   "source": [
    "## This is a partial revision of the [initial](https://github.com/Jacobs007/Stratified-Random-Sampling/blob/master/Stratified%20Random%20Sampling%20for%20Small-N%20StudiesV2.ipynb) process"
   ]
  },
  {
   "cell_type": "code",
   "execution_count": 1,
   "metadata": {
    "collapsed": false
   },
   "outputs": [
   ],
   "source": [
    "import random\n",
    "import matplotlib.pyplot as plt"
   ]
  },
  {
   "cell_type": "markdown",
   "metadata": {
    "collapsed": false
   },
   "source": [
    "### Motivation:\n",
    "\n",
    "Given the limited time available to conduct the joint-part of the policy-incubator and the difficulty we experienced with gathering party manifestos of some but mostly coalition parties, we decided to replace some of the parties in the initial sample. The parties we opted to take-out of the initial sample are listed in the table below."
   ]
  },
  {
   "cell_type": "markdown",
   "metadata": {
    "collapsed": false
   },
   "source": [
    "| Party   | Group | Seats | country |\n",
    "| --------------:--------:---------: -----: \n",
    "| Movement for Change (ΠΑΣΟΚ + ΔΗΣΥ + ΚΙΔΗΣΟ / PASOK + DISI + KIDISO) | EPP | 2 | Greece |\n",
    "| Coalition (GERB/ГЕРБ | EPP | 6 | Bulgaria |\n",
    "| Tėvynės sąjunga - Lietuvos krikščionys demokratai | EPP | 3 | Lithuania |\n",
    "| Partidul Mișcarea Populară | EPP | 2 | Romania | \n",
    "| Coalition (SDS + SLS) | EPP | 3 | Slovenia |\n",
    "| Partidul Pro Romania | S&D | 2 | Romania | \n",
    "| Socialistische Partij - Anders | S&D | 1 | Belgium |\n",
    "| Wiosna | S&D | 3 | Poland |\n",
    "| Coalition Koalicja Europejska (PO + PSL + SLD + .N + Z)2 | S&D | 5 | Poland |\n",
    "| Lietuvos lenkų rinkimų akcija - krikščioniškų šeimų sąjunga | ECR | 1 | Lithuania |\n",
    "| Lista Marjana Šarca | Renew Europe | 2 | Slovenia|\n",
    "| Fianna Fáil Party | Renew Europe | 1 | Ireland |\n",
    "| Svenska folkpartiet (Ruotsalainen kansanpuolue) | Renew Europe | 1 | Finland |\n",
    "| Coalition AP! (Latvijas attīstībai + Par!) | Renew Europe | 1 | Latvia |\n",
    "| Coalition Unidas Podemos Cambiar Europa (UP + IU + Catalunya en Comú + Barcelona en Comú) | GUE/NGL | 5 | Spain |\n",
    "| Coligação Democrática Unitária (PCP + PEV) | GUE/NGL | 2 | Portugal |\n",
    "| Partei für Arbeit, Rechtsstaat, Tierschutz, Elitenförderung und basisdemokratische Initiative | Greens/EFA | 2 | Germany |\n",
    "| Svoboda a přímá demokracie | ID | 2 | Czechia |"
   ]
  },
  {
   "cell_type": "markdown",
   "metadata": {
    "collapsed": false
   },
   "source": [
    "<a id='section_id'></a>"
   ]
  },
  {
   "cell_type": "markdown",
   "metadata": {
    "collapsed": false
   },
   "source": [
    "Systematically dropping coalition parties introduces a major bias in the representativeness of our sample but is necessary for the feasibility of the research. Overall the drop will shift the representativeness of our sample, and thus our analysis, towards the representation of large(r) national parties.\n",
    "\n",
    "18 parties have been dropped from the initial sample (51.4%).\n",
    "\n",
    "After dropping the initial sample and all remaining coalition parties from the population of parties, the list below gives the \"new\" population of parties to sample 18 new parties from."
   ]
  },
  {
   "cell_type": "code",
   "execution_count": 2,
   "metadata": {
    "collapsed": false
   },
   "outputs": [
   ],
   "source": [
    "population = {\n",
    "    \"Christlich Demokratische Union Deutschlands\":\"EPP\",\n",
    "    \"Sozialdemokratische Partei Deutschlands\":\"SD\",\n",
    "    \"Alternative für Deutschland\":\"ID\",\n",
    "    \"Die Linke\":\"GUE/NGL\",\n",
    "    \"Freie Demokratische Partei\":\"Renew Europe\",\n",
    "    \"Freie Wähler\":\"Renew Europe\",\n",
    "    \"PARTEI MENSCH UMWELT TIERSCHUTZ\":\"GUE/NGL\",\n",
    "    \"Ökologisch-Demokratische Partei\":\"Greens/EFA\",\n",
    "    \"Piratenpartei Deutschland\":\"Greens/EFA\",\n",
    "    \"Familien-Partei Deutschlands\":\"ECR\",\n",
    "    \"VOLT\":\"Greens/EFA\",\n",
    "    \"Europe écologie-Les verts\":\"Greens/EFA\",\n",
    "    \"Les Républicains\":\"EPP\",\n",
    "    \"France insoumise\":\"GUE/NGL\",\n",
    "    \"Lega Salvini Premier\":\"ID\",\n",
    "    \"Partito Democratico\":\"SD\",\n",
    "    \"Movimento Cinque Stelle\":\"NI\",\n",
    "    \"Fratelli d'Itali\":\"ECR\",\n",
    "    \"Südtiroler Volkspartei\":\"EPP\",\n",
    "    \"Partido Popular\":\"EPP\",\n",
    "    \"VOX \":\"ECR\",\n",
    "    \"Prawo i Sprawiedliwoś\":\"ECR\",\n",
    "    \"Partidul Naţional Liberal\":\"EPP\",\n",
    "    \"Partidul Social Democrat\":\"SD\",\n",
    "    \"Romániai Magyar Demokrata Szövetség/Uniunea Democrată Maghiară din România\":\"EPP\",\n",
    "    \"Partij van de Arbeid\":\"SD\",\n",
    "    \"Volkspartij voor Vrijheid en Democratie\":\"Renew Europe\",\n",
    "    \"Christen-Democratisch Appèl\":\"EPP\",\n",
    "    \"Forum voor Democratie\":\"ECR\",\n",
    "    \"Democraten 66\":\"Renew Europe\",\n",
    "    \"Partij voor de Dieren\":\"GUE/NGL\",\n",
    "    \"50+\":\"EPP\",\n",
    "    \"Vlaams Belang\":\"ID\",\n",
    "    \"Parti Socialiste\":\"SD\",\n",
    "    \"Open Vlaamse Liberalen en Democraten\":\"Renew Europe\",\n",
    "    \"Christen-Democratisch & Vlaams\":\"EPP\",\n",
    "    \"Ecologistes Confédérés pour l'Organisation de Luttes Originales\":\"Greens/EFA\",\n",
    "    \"Mouvement Réformateur\":\"Renew Europe\",\n",
    "    \"Groen\":\"Greens/EFA\",\n",
    "    \"Christlich Soziale Partei\":\"EPP\",\n",
    "    \"Communist Party of Greece\":\"NI\",\n",
    "    \"Golden Dawn\":\"NI\",\n",
    "    \"ANO 2011\":\"Renew Europe\",\n",
    "    \"Občanská demokratická strana\":\"ECR\",\n",
    "    \"STAROSTOVÉ (STAN) s regionálními partnery a TOP 09\":\"EPP\",\n",
    "    \"Křesťanská a demokratická unie – Československá strana lidová\":\"EPP\",\n",
    "    \"Partido Social Democrata\":\"EPP\",\n",
    "    \"Bloco de Esquerda\":\"GUE/NGL\",\n",
    "    \"CDS - Partido Popular\":\"EPP\",\n",
    "    \"Pessoas–Animais–Natureza\":\"Greens/EFA\",\n",
    "    \"Socialdemokraterna\":\"SD\",\n",
    "    \"Moderaterna\":\"EPP\",\n",
    "    \"Sverigedemokraterna\":\"ECR\",\n",
    "    \"Miljöpartiet de Gröna\":\"Greens/EFA\",\n",
    "    \"Centerpartiet\":\"Renew Europe\",\n",
    "    \"Vänsterpartiet\":\"GUE/NGL\",\n",
    "    \"Liberalerna\":\"Renew Europe\",\n",
    "    \"Demokratikus Koalíció\":\"SD\",\n",
    "    \"Momentum Mozgalom\":\"Renew Europe\",\n",
    "    \"Jobbik Magyarországért Mozgalom\":\"NI\",\n",
    "    \"Österreichische Volkspartei\":\"EPP\",\n",
    "    \"Sozialdemokratische Partei Österreich\":\"SD\",\n",
    "    \"Freiheitliche Partei Österreichs\":\"ID\",\n",
    "    \"Die Grünen - Die Grüne Alternative\":\"Greens/EFA\",\n",
    "    \"NEOS - Das neue Österreich\":\"Renew Europe\",\n",
    "    \"Bulgarska sotsialisticheska partiya\":\"SD\",\n",
    "    \"Dvizhenie za prava i svobodi\":\"Renew Europe\",\n",
    "    \"VMRO - Bulgarsko Natsionalno Dvizhenie\":\"ECR\",\n",
    "    \"Demokratichna Bulgaria \":\"EPP\",\n",
    "    \"Socialdemokratiet\":\"SD\",\n",
    "    \"Socialistisk Folkeparti\":\"Greens/EFA\",\n",
    "    \"Det Radikale Venstre\":\"Renew Europe\",\n",
    "    \"Dansk Folkeparti\":\"ID\",\n",
    "    \"Det Konservative Folkeparti\":\"EPP\",\n",
    "    \"Enhedslisten, de Rød-Grønne\":\"GUE/NGL\",\n",
    "    \"Kansallinen Kokoomus\":\"EPP\",\n",
    "    \"Vihreä liitto\":\"Greens/EFA\",\n",
    "    \"Suomen Sosialidemokraattinen Puolue/Finlands Socialdemokratiska Parti\":\"SD\",\n",
    "    \"Perussuomalaiset\":\"ID\",\n",
    "    \"Suomen Keskusta\":\"Renew Europe\",\n",
    "    \"Vasemmistoliitto\":\"GUE/NGL\",\n",
    "    \"SMER - Sociálna demokracia\":\"SD\",\n",
    "    \"Kotleba - Ľudová strana Naše Slovensko\":\"NI\",\n",
    "    \"Sloboda a Solidarita\":\"ECR\",\n",
    "    \"Kresťanskodemokratické hnutie\":\"EPP\",\n",
    "    \"Fine Gael Party\":\"EPP\",\n",
    "    \"Green Party\":\"Greens/EFA\",\n",
    "    \"Independents 4 Change\":\"GUE/NGL\",\n",
    "    \"Sinn Féin\":\"GUE/NGL\",\n",
    "    \"Independents\":\"GUE/NGL\",\n",
    "    \"Hrvatska demokratska zajednica\":\"EPP\",\n",
    "    \"Socijaldemokratska partija Hrvatske\":\"SD\",\n",
    "    \"Independent Mislav Kolakušić\":\"NI\",\n",
    "    \"Živi zid\":\"NI\",\n",
    "    \"Lietuvos socialdemokratų partija\":\"SD\",\n",
    "    \"Lietuvos Valstiečių ir Žaliųjų Sąjunga\":\"Greens/EFA\",\n",
    "    \"Darbo partija\":\"Renew Europe\",\n",
    "    \"Lietuvos Respublikos liberalų sąjūdis\":\"Renew Europe\",\n",
    "    \"Visuomeninis rinkimų komitetas Aušros Maldeikienės traukinys\":\"EPP\",\n",
    "    \"Socialni demokrati\":\"SD\",\n",
    "    \"Nova Slovenija\":\"EPP\",\n",
    "    \"Jaunā Vienotība\":\"EPP\",\n",
    "    \"Saskaņa Sociāldemokrātiskā partija\":\"SD\",\n",
    "    \"Latvijas Krievu savienībā\":\"EFA\",\n",
    "    \"Eesti Reformierakond\":\"Renew Europe\",\n",
    "    \"Sotsiaaldemokraatlik Erakond\":\"SD\",\n",
    "    \"Eesti Konservatiivne Rahvaerakond\":\"ID\",\n",
    "    \"Demokratesch Partei/Parti démocratique\":\"Renew Europe\",\n",
    "    \"Chrëschtlech-Sozial Vollekspartei/Parti populaire chrétien-social\":\"EPP\",\n",
    "    \"Déi Gréng/Les Verts\":\"Greens/EFA\",\n",
    "    \"Lëtzebuerger Sozialistesch Aarbechterpartei/Parti ouvrier socialiste luxembourgeois\":\"SD\",\n",
    "    \"Partit Laburista/Malta Labour Party\":\"SD\",\n",
    "    \"Partit Nazzjonalista/Nationalist Party\":\"EPP\"\n",
    "} "
   ]
  },
  {
   "cell_type": "code",
   "execution_count": 3,
   "metadata": {
    "collapsed": false
   },
   "outputs": [
    {
     "name": "stdout",
     "output_type": "stream",
     "text": [
      "There are 105 parties in the [new] dataset to sample the remaining 18 parties from.\n",
      "Replaced part of the stratified random sample to be used for the project's analysis: ['Det Konservative Folkeparti', 'Österreichische Volkspartei', 'Chrëschtlech-Sozial Vollekspartei/Parti populaire chrétien-social', 'Kresťanskodemokratické hnutie', 'Kansallinen Kokoomus', 'Partij van de Arbeid', 'Partidul Social Democrat', 'Socialdemokratiet', 'Socialdemokraterna', 'Prawo i Sprawiedliwoś', 'Centerpartiet', 'Suomen Keskusta', 'Det Radikale Venstre', 'Demokratesch Partei/Parti démocratique', 'Independents', 'PARTEI MENSCH UMWELT TIERSCHUTZ', 'Socialistisk Folkeparti', 'Perussuomalaiset']\n"
     ]
    }
   ],
   "source": [
    "EPP_parties = []\n",
    "SD_parties = []\n",
    "ECR_parties = []\n",
    "Renew_Europe_parties = []\n",
    "GUE_NGL_parties = []\n",
    "Greens_EFA_parties = []\n",
    "ID_parties = []\n",
    "\n",
    "for x,j in population.items():\n",
    "    if j == \"EPP\":\n",
    "        EPP_parties.append(x)\n",
    "        \n",
    "for x,j in population.items():\n",
    "    if j == \"SD\":\n",
    "        SD_parties.append(x)\n",
    "\n",
    "for x,j in population.items():\n",
    "    if j == \"ECR\":\n",
    "        ECR_parties.append(x)\n",
    "\n",
    "for x,j in population.items():\n",
    "    if j == \"Renew Europe\":\n",
    "        Renew_Europe_parties.append(x)\n",
    "\n",
    "for x,j in population.items():\n",
    "    if j == \"GUE/NGL\":\n",
    "        GUE_NGL_parties.append(x)\n",
    "        \n",
    "for x,j in population.items():\n",
    "    if j == \"Greens/EFA\":\n",
    "        Greens_EFA_parties.append(x)\n",
    "\n",
    "for x,j in population.items():\n",
    "    if j == \"ID\":\n",
    "        ID_parties.append(x)\n",
    "\n",
    "        \n",
    "print(\"There are\", len(EPP_parties)+len(SD_parties)+len(ECR_parties)+len(Renew_Europe_parties)+len(GUE_NGL_parties)+len(Greens_EFA_parties)+len(ID_parties), \"parties in the [new] dataset to sample the remaining 18 parties from.\")\n",
    "\n",
    "\n",
    "# \"K\" refers to the number of parties to be replaced from each party group (see also the table at the top of this notebook).\n",
    "def subsample_EPP():\n",
    "    return random.sample(EPP_parties, k=5)\n",
    "\n",
    "def subsample_SD():\n",
    "    return random.sample(SD_parties, k=4)\n",
    "\n",
    "def subsample_ECR():\n",
    "    return random.sample(ECR_parties, k=1)\n",
    "\n",
    "def subsample_Renew_Europe():\n",
    "    return random.sample(Renew_Europe_parties, k=4)\n",
    "\n",
    "def subsample_GUE_NGL():\n",
    "    return random.sample(GUE_NGL_parties, k=2)\n",
    "\n",
    "def subsample_Greens_EFA():\n",
    "    return random.sample(Greens_EFA_parties, k=1)\n",
    "\n",
    "def subsample_ID():\n",
    "    return random.sample(ID_parties, k=1)\n",
    "\n",
    "def subsample():\n",
    "    return subsample_EPP()+subsample_SD()+subsample_ECR()+subsample_Renew_Europe()+subsample_GUE_NGL()+subsample_Greens_EFA()+subsample_ID()\n",
    "print(\"Replaced part of the stratified random sample to be used for the project's analysis:\", subsample())"
   ]
  },
  {
   "cell_type": "markdown",
   "metadata": {
    "collapsed": false
   },
   "source": [
    "## Balance Check\n",
    "\n",
    "The obtained randomly sampled parties are merged with the parties from the initial dataset on which we found the manifestos. The new sample is checked for balance in the table below. The initial table can be found [here](https://github.com/Jacobs007/Stratified-Random-Sampling/blob/master/Stratified%20Random%20Sampling%20for%20Small-N%20StudiesV2.ipynb)."
   ]
  },
  {
   "cell_type": "markdown",
   "metadata": {
    "collapsed": false
   },
   "source": [
    "| Party   | Group | Seats | country |\n",
    "| --------------:-----------------: -----: \n",
    "|Centre Démocrate Humaniste | EPP | 1 | Belgium |\n",
    "|Forza Italia | EPP | 6 | Italy |\n",
    "|Det Konservative Folkeparti| EPP |1|Denmark|\n",
    "|Österreichische Volkspartei| EPP |7|Austria|\n",
    "|Chrëschtlech-Sozial Vollekspartei/Parti populaire chrétien-social| EPP |2|Luxembourg|\n",
    "|Kansallinen Kokoomus| EPP |3|Finland|\n",
    "|New Democracy| EPP | 8 |Greece |\n",
    "|Kristdemokraterna  |EPP| 2 | Sweden|\n",
    "|Kresťanskodemokratické hnutie|EPP|1|Slovakia|\n",
    "|Partij van de Arbeid| S&D |6|Netherlands|\n",
    "|Partidul Social Democrat| S&D |8|Romania|\n",
    "|Socialdemokratiet|S&D|3|Denmark|\n",
    "|Partido Socialista Obrero Español + Partido de los Socialistas de Cataluña | S&D |20 | Spain |\n",
    "|Partido Socialista |S&D  |9|Portugal |\n",
    "|Socialdemokraterna|S&D|5|Sweden|\n",
    "|Nieuw-Vlaamse Alliantie| ECR |3  |Belgium  |\n",
    "|Greek Solution |ECR  |1  |Greece |\n",
    "|Prawo i Sprawiedliwoś|ECR|26|Poland|\n",
    "|Centerpartiet|Renw Europe|2|Sweden|\n",
    "|Suomen Keskusta|Renew Europe|2|Finland|\n",
    "|Det Radikale Venstre|Renew Europe|2|Denmark|\n",
    "|Eesti Keskerakond  |Renew Europe |1  |Estonia  |\n",
    "|Ciudadanos - Partido de la Ciudadanía  | Renew Europe  | 7 |Spain  |\n",
    "|Demokratesch Partei/Parti démocratique|Renew Europe |2|Luxembourg |\n",
    "|Venstre, Danmarks Liberale Parti | Renew Europe  | 3 | Denmark |\n",
    "|Independents| GUE/NGL |1|Ireland|\n",
    "|Parti du Travail de Belgique | GUE/NGL | 1 |Belgium  |\n",
    "|PARTEI MENSCH UMWELT TIERSCHUTZ| GUE/NGL |1|Germany|\n",
    "|Komunistická strana Čech a Moravy  | GUE/NGL |1| Czechia |\n",
    "|Die Grünen | Greens/EFA  |21 | Germany |\n",
    "|GroenLinks | Greens/EFA  | 3 | Netherlands |\n",
    "|Česká pirátská strana| Greens/EFA  |3  |Czechia  |\n",
    "|Socialistisk Folkeparti|Greens/EFA|2|Denmark|\n",
    "|Perussuomalaiset|ID|2|Finland|\n",
    "|Rassemblement national |ID | 22  |France |"
   ]
  },
  {
   "cell_type": "markdown",
   "metadata": {
    "collapsed": false
   },
   "source": [
    "The number of parties sampled from each political group is determined by the stratification strategy (see detailed explanation [here](https://github.com/Jacobs007/Stratified-Random-Sampling/blob/master/Stratified%20Random%20Sampling%20for%20Small-N%20StudiesV2.ipynb)). The sample distribution of seats is plotted below and matches the distribution of the population statistic as displayed [here](https://github.com/Jacobs007/Stratified-Random-Sampling/blob/master/Stratified%20Random%20Sampling%20for%20Small-N%20StudiesV2.ipynb) fairly well. Yet, the top-percentile largest parties, in terms of seats, are somewhat overrepresented while those with 10 to 20 seats are missing in the sample. Moreover, the sample comprises 19 different member states and no member-state is represented more than five times in the sample (Denmark). Sweden and Finland are each represented three times (as well is Belgium) which slightly overrepresents the Nordic states. Nevertheless, in general it can be concluded that the sampling procedure yielded a sufficiently representative sample which can be used for the analysis of the research project, taking into consideration the remarks as expressed [here](#section_id)."
   ]
  },
  {
   "cell_type": "code",
   "execution_count": 4,
   "metadata": {
    "collapsed": false
   },
   "outputs": [
    {
     "data": {
      "image/png": "[encoded data removed]",
      "text/plain": [
       "<Figure size 864x504 with 1 Axes>"
      ]
     },
     "execution_count": 4,
     "metadata": {
      "image/png": {
       "height": 440,
       "width": 710
      },
      "needs_background": "light"
     },
     "output_type": "execute_result"
    }
   ],
   "source": [
    "seats_table = [1,6,1,7,2,3,8,2,1,6,8,3,20,9,5,3,1,26,2,2,2,1,7,2,3,1,1,1,1,21,3,3,2,2,22]\n",
    "\n",
    "plt.hist(seats_table, color=\"coral\", bins=29)\n",
    "plt.xlabel(\"Number of Seats\")\n",
    "plt.ylabel(\"Number of Parties with x Seats\")\n",
    "plt.title(\"Distribution Number of Seats by Party (SAMPLE-2)\")\n",
    "plt.show()"
   ]
  },
  {
   "cell_type": "code",
   "execution_count": 0,
   "metadata": {
    "collapsed": false
   },
   "outputs": [
   ],
   "source": [
   ]
  }
 ],
 "metadata": {
  "kernelspec": {
   "display_name": "Python 3 (system-wide)",
   "language": "python",
   "metadata": {
    "cocalc": {
     "description": "Python 3 programming language",
     "priority": 100,
     "url": "https://www.python.org/"
    }
   },
   "name": "python3"
  },
  "language_info": {
   "codemirror_mode": {
    "name": "ipython",
    "version": 3
   },
   "file_extension": ".py",
   "mimetype": "text/x-python",
   "name": "python",
   "nbconvert_exporter": "python",
   "pygments_lexer": "ipython3",
   "version": "3.6.9"
  }
 },
 "nbformat": 4,
 "nbformat_minor": 0
}