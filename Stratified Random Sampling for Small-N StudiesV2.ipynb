{
 "cells": [
  {
   "cell_type": "markdown",
   "metadata": {
    "collapsed": false
   },
   "source": [
    "# Stratified Random Sampling - European Parties - European Committee of the Regions - Policy Incubator Project 2020\n",
    "\n",
    "## *London School of Economics and Political Science*\n",
    "\n",
    "\n",
    "### *European Institute*\n",
    "\n",
    "#### Authors:\n",
    "- Tim Jacobs\n",
    "- Hande Taner\n",
    "- Nicole Lawler\n",
    "- Christian Zörner\n",
    "\n",
    "\n",
    "\n",
    "**Disclaimer:**\n",
    "\n",
    "This online appendix is part of a research project in cooperation with the *European Committee of the Regions*. Any views expressed in this research do not necessarily reflect those of the European Committee of the Regions. While writing this research, no author declared to have conflict of interest with the European Committee of the Regions nor any other organisation. We are grateful for the constructive comments of our project-supervisor Dr Miriam Sorace, but would like to emphasize that any error is the sole responsibility of the authors."
   ]
  },
  {
   "cell_type": "markdown",
   "metadata": {
    "collapsed": false
   },
   "source": [
    "## Introduction\n",
    "\n",
    "To obtain a representative sample with which the research question, as outlined in the project, can be explored, it was chosen to randomly sample 35 national but in the European Parliament represented parties. The number of 35 captures 21% of the population. This sample was obtained by means of the code as outlined in this appendix. Due to the limited size of the sample, it was chosen to make use of stratification based on European Party Group affiliation. One could argue that other factors such as for instance country affiliation and number of seats should be taken into account too. Yet, due to the limited sample size, balance across these variables will only be verified after randomization. In case of the obtained sample being unbalanced, in terms of non-controled variables, the sampling procedure cou be repeated. "
   ]
  },
  {
   "cell_type": "markdown",
   "metadata": {
    "collapsed": false
   },
   "source": [
    "#### Data:\n",
    "\n",
    "**Manifestoes European Party Groups:**\n",
    "[EPP](https://www.epp.eu/files/uploads/2019/04/EPP-MANIFESTO-2019.pdf)/\n",
    "[S&D](https://www.pes.eu/export/sites/default/.galleries/Documents-gallery/PES-Manifesto-2019_EN.pdf_2063069299.pdf)/\n",
    "[Greens](https://europeangreens.eu/sites/europeangreens.eu/files/8.%20PROOFREAD%20Adopted%20%20EGP%20Manifesto%202019.pdf)/\n",
    "[ALDE](https://www.aldeparty.eu/sites/alde/files/40-Resolutions/2019_freedom_opportunity_prosperity_the_liberal_vision_for_the_future_of_europe_0.pdf )\n",
    "\n",
    "**2019 European Parliament Election Results:**\n",
    "[Here](https://www.europarl.europa.eu/election-results-2019/en ) (accessed February 22, 2020)\n",
    "\n",
    "Although the project’s dataset could have been constructed with a dataframe or a nested dictionary, it was chosen to construct two separate dictionaries over the course of the notebook. This makes the notebook substantially longer but the computations easier to grasp for the less experienced reader. Similar logic applies to the for-loops presented in the notebook."
   ]
  },
  {
   "cell_type": "code",
   "execution_count": 1,
   "metadata": {
    "collapsed": false
   },
   "outputs": [
   ],
   "source": [
    "import random\n",
    "import matplotlib.pyplot as plt"
   ]
  },
  {
   "cell_type": "markdown",
   "metadata": {
    "collapsed": false
   },
   "source": [
    "## Constructing the Simple Algorithm"
   ]
  },
  {
   "cell_type": "markdown",
   "metadata": {
    "collapsed": false
   },
   "source": [
    "#### The dictionary \"population\":\n",
    "The dictionary \"population\" contains all parties represented in the European Parliament and their corresponding party group. The data is based on the composition of the European Parliament in the year [2019](https://www.europarl.europa.eu/election-results-2019/en ) and will form the main basis for the randomisation process. \n",
    "\n",
    "To define the abbreviations:\n",
    "- EPP - *Group of the European People's Party (Christian Democrats)*\n",
    "- S&D - *Group of the Progressive Alliance of Socialists and Democrats in the European Parliament*\n",
    "- ECR - *European Conservatives and Reformists Group*\n",
    "- Renew Europe - *Renew Europe group*\n",
    "- GUE/NGL - *Confederal Group of the European United Left - Nordic Green Left*\n",
    "- Greens/EFA - *Group of the Greens/European Free Alliance*\n",
    "- ID - *Identity and Democracy*\n",
    "- NI - *Non-attached Members*"
   ]
  },
  {
   "cell_type": "code",
   "execution_count": 2,
   "metadata": {
    "collapsed": false
   },
   "outputs": [
   ],
   "source": [
    "population = {\n",
    "    \"Christlich Demokratische Union Deutschlands\":\"EPP\",\n",
    "    \"Die Grünen\":\"Greens/EFA\",\n",
    "    \"Sozialdemokratische Partei Deutschlands\":\"SD\",\n",
    "    \"Alternative für Deutschland\":\"ID\",\n",
    "    \"Die Linke\":\"GUE/NGL\",\n",
    "    \"Freie Demokratische Partei\":\"Renew Europe\",\n",
    "    \"Freie Wähler\":\"Renew Europe\",\n",
    "    \"PARTEI MENSCH UMWELT TIERSCHUTZ\":\"GUE/NGL\",\n",
    "    \"Ökologisch-Demokratische Partei\":\"Greens/EFA\",\n",
    "    \"Piratenpartei Deutschland\":\"Greens/EFA\",\n",
    "    \"Familien-Partei Deutschlands\":\"ECR\",\n",
    "    \"VOLT\":\"Greens/EFA\",\n",
    "    \"Partei für Arbeit, Rechtsstaat, Tierschutz, Elitenförderung und basisdemokratische Initiative\":\"Greens/EFA\",\n",
    "    \"Partei für Arbeit, Rechtsstaat, Tierschutz, Elitenförderung und basisdemokratische Initiative2\":\"NI\",\n",
    "    \"Rassemblement national\":\"ID\",\n",
    "    \"Coalition Renaissance\":\"Renew Europe\",\n",
    "    \"Europe écologie-Les verts\":\"Greens/EFA\",\n",
    "    \"Les Républicains\":\"EPP\",\n",
    "    \"France insoumise\":\"GUE/NGL\",\n",
    "    \"Coalition Envie d'Europe écologique et sociale\":\"SD\",\n",
    "    \"Lega Salvini Premier\":\"ID\",\n",
    "    \"Partito Democratico\":\"SD\",\n",
    "    \"Movimento Cinque Stelle\":\"NI\",\n",
    "    \"Forza Italia\":\"EPP\",\n",
    "    \"Fratelli d'Itali\":\"ECR\",\n",
    "    \"Südtiroler Volkspartei\":\"EPP\",\n",
    "    \"Partido Socialista Obrero Español + Partido de los Socialistas de Cataluña\":\"SD\",\n",
    "    \"Partido Popular\":\"EPP\",\n",
    "    \"Ciudadanos - Partido de la Ciudadanía\":\"Renew Europe\",\n",
    "    \"Coalition Unidas Podemos Cambiar Europa (UP + IU + Catalunya en Comú + Barcelona en Comú)\":\"GUE/NGL\",\n",
    "    \"Coalition Unidas Podemos Cambiar Europa (UP + IU + Catalunya en Comú + Barcelona en Comú)2\":\"Greens/EFA\",\n",
    "    \"VOX \":\"ECR\",\n",
    "    \"Coalition Ahora Repúblicas (ERC + Bildu + BNG)\":\"GUE/NGL\",\n",
    "    \"Coalition Ahora Repúblicas (ERC + Bildu + BNG)2\":\"Greens/EFA\",\n",
    "    \"Coalition Ahora Repúblicas (ERC + Bildu + BNG)3\":\"NI\",\n",
    "    \"Coal LLIURES PER EUROPA (JUNTS) (PdCat + JXCat)\":\"NI\",\n",
    "    \"Coalition por una Europa Solidaria (EAJ-PNV + CC + CxG + Atarrabia Taldea + El Pi + Valencians)\":\"Renew Europe\",\n",
    "    \"Prawo i Sprawiedliwoś\":\"ECR\",\n",
    "    \"Coalition Koalicja Europejska (PO + PSL + SLD + .N + Z)\":\"EPP\",\n",
    "    \"Coalition Koalicja Europejska (PO + PSL + SLD + .N + Z)2\":\"SD\",\n",
    "    \"Wiosna\":\"SD\",\n",
    "    \"Partidul Naţional Liberal\":\"EPP\",\n",
    "    \"Partidul Social Democrat\":\"SD\",\n",
    "    \"Coalition 2020 USR + PLUS Alliance (USR+PLUS)\":\"Renew Europe\",\n",
    "    \"Partidul Pro Romania\":\"SD\",\n",
    "    \"Partidul Mișcarea Populară\":\"EPP\",\n",
    "    \"Romániai Magyar Demokrata Szövetség/Uniunea Democrată Maghiară din România\":\"EPP\",\n",
    "    \"Partij van de Arbeid\":\"SD\",\n",
    "    \"Volkspartij voor Vrijheid en Democratie\":\"Renew Europe\",\n",
    "    \"Christen-Democratisch Appèl\":\"EPP\",\n",
    "    \"Forum voor Democratie\":\"ECR\",\n",
    "    \"GroenLinks\":\"Greens/EFA\",\n",
    "    \"Democraten 66\":\"Renew Europe\",\n",
    "    \"Coalition ChristenUnie - Staatkundig Gereformeerde Partij\":\"EPP\",\n",
    "    \"Coalition ChristenUnie - Staatkundig Gereformeerde Partij2\":\"ECR\",\n",
    "    \"Partij voor de Dieren\":\"GUE/NGL\",\n",
    "    \"50+\":\"EPP\",\n",
    "    \"Nieuw-Vlaamse Alliantie\":\"ECR\",\n",
    "    \"Vlaams Belang\":\"ID\",\n",
    "    \"Parti Socialiste\":\"SD\",\n",
    "    \"Open Vlaamse Liberalen en Democraten\":\"Renew Europe\",\n",
    "    \"Christen-Democratisch & Vlaams\":\"EPP\",\n",
    "    \"Ecologistes Confédérés pour l'Organisation de Luttes Originales\":\"Greens/EFA\",\n",
    "    \"Mouvement Réformateur\":\"Renew Europe\",\n",
    "    \"Groen\":\"Greens/EFA\",\n",
    "    \"Socialistische Partij - Anders\":\"SD\",\n",
    "    \"Parti du Travail de Belgique\":\"GUE/NGL\",\n",
    "    \"Centre Démocrate Humaniste\":\"EPP\",\n",
    "    \"Christlich Soziale Partei\":\"EPP\",\n",
    "    \"New Democracy\":\"EPP\",\n",
    "    \"Coalition of the Radical Left\":\"GUE/NGL\",\n",
    "    \"Movement for Change (ΠΑΣΟΚ + ΔΗΣΥ + ΚΙΔΗΣΟ / PASOK + DISI + KIDISO) \":\"EPP\",\n",
    "    \"Communist Party of Greece\":\"NI\",\n",
    "    \"Golden Dawn\":\"NI\",\n",
    "    \"Greek Solution\":\"ECR\",\n",
    "    \"ANO 2011\":\"Renew Europe\",\n",
    "    \"Občanská demokratická strana\":\"ECR\",\n",
    "    \"Česká pirátská strana\":\"Greens/EFA\",\n",
    "    \"STAROSTOVÉ (STAN) s regionálními partnery a TOP 09\":\"EPP\",\n",
    "    \"Svoboda a přímá demokracie\":\"ID\",\n",
    "    \"Křesťanská a demokratická unie – Československá strana lidová\":\"EPP\",\n",
    "    \"Komunistická strana Čech a Moravy\":\"GUE/NGL\",\n",
    "    \"Partido Socialista\":\"SD\",\n",
    "    \"Partido Social Democrata\":\"EPP\",\n",
    "    \"Bloco de Esquerda\":\"GUE/NGL\",\n",
    "    \"Coligação Democrática Unitária (PCP + PEV)\":\"GUE/NGL\",\n",
    "    \"CDS - Partido Popular\":\"EPP\",\n",
    "    \"Pessoas–Animais–Natureza\":\"Greens/EFA\",\n",
    "    \"Socialdemokraterna\":\"SD\",\n",
    "    \"Moderaterna\":\"EPP\",\n",
    "    \"Sverigedemokraterna\":\"ECR\",\n",
    "    \"Miljöpartiet de Gröna\":\"Greens/EFA\",\n",
    "    \"Centerpartiet\":\"Renew Europe\",\n",
    "    \"Kristdemokraterna\":\"EPP\",\n",
    "    \"Vänsterpartiet\":\"GUE/NGL\",\n",
    "    \"Liberalerna\":\"Renew Europe\",\n",
    "    \"Coalition (FIDESZ + KDNP)\":\"EPP\",\n",
    "    \"Demokratikus Koalíció\":\"SD\",\n",
    "    \"Momentum Mozgalom\":\"Renew Europe\",\n",
    "    \"Coalition (MSZP + Párbeszéd)\":\"SD\",\n",
    "    \"Jobbik Magyarországért Mozgalom\":\"NI\",\n",
    "    \"Österreichische Volkspartei\":\"EPP\",\n",
    "    \"Sozialdemokratische Partei Österreich\":\"SD\",\n",
    "    \"Freiheitliche Partei Österreichs\":\"ID\",\n",
    "    \"Die Grünen - Die Grüne Alternative\":\"Greens/EFA\",\n",
    "    \"NEOS - Das neue Österreich\":\"Renew Europe\",\n",
    "    \"Coalition (GERB/ГЕРБ\":\"EPP\",\n",
    "    \"Bulgarska sotsialisticheska partiya\":\"SD\",\n",
    "    \"Dvizhenie za prava i svobodi\":\"Renew Europe\",\n",
    "    \"VMRO - Bulgarsko Natsionalno Dvizhenie\":\"ECR\",\n",
    "    \"Demokratichna Bulgaria \":\"EPP\",\n",
    "    \"Venstre, Danmarks Liberale Parti\":\"Renew Europe\",\n",
    "    \"Socialdemokratiet\":\"SD\",\n",
    "    \"Socialistisk Folkeparti\":\"Greens/EFA\",\n",
    "    \"Det Radikale Venstre\":\"Renew Europe\",\n",
    "    \"Dansk Folkeparti\":\"ID\",\n",
    "    \"Det Konservative Folkeparti\":\"EPP\",\n",
    "    \"Enhedslisten, de Rød-Grønne\":\"GUE/NGL\",\n",
    "    \"Kansallinen Kokoomus\":\"EPP\",\n",
    "    \"Vihreä liitto\":\"Greens/EFA\",\n",
    "    \"Suomen Sosialidemokraattinen Puolue/Finlands Socialdemokratiska Parti\":\"SD\",\n",
    "    \"Perussuomalaiset\":\"ID\",\n",
    "    \"Suomen Keskusta\":\"Renew Europe\",\n",
    "    \"Vasemmistoliitto\":\"GUE/NGL\",\n",
    "    \"Svenska folkpartiet (Ruotsalainen kansanpuolue)\":\"Renew Europe\",\n",
    "    \"Coalition (PS + SPOLU)\":\"EPP\",\n",
    "    \"Coalition (PS + SPOLU)2\":\"Renew Europe\",\n",
    "    \"SMER - Sociálna demokracia\":\"SD\",\n",
    "    \"Kotleba - Ľudová strana Naše Slovensko\":\"NI\",\n",
    "    \"Sloboda a Solidarita\":\"ECR\",\n",
    "    \"Kresťanskodemokratické hnutie\":\"EPP\",\n",
    "    \"Coalition (OL'aNO + NOVA)\":\"EPP\",\n",
    "    \"Fine Gael Party\":\"EPP\",\n",
    "    \"Green Party\":\"Greens/EFA\",\n",
    "    \"Independents 4 Change\":\"GUE/NGL\",\n",
    "    \"Fianna Fáil Party\":\"Renew Europe\",\n",
    "    \"Sinn Féin\":\"GUE/NGL\",\n",
    "    \"Independents\":\"GUE/NGL\",\n",
    "    \"Hrvatska demokratska zajednica\":\"EPP\",\n",
    "    \"Socijaldemokratska partija Hrvatske\":\"SD\",\n",
    "    \"Coalition Hrvatski suverenisti\":\"ECR\",\n",
    "    \"Independent Mislav Kolakušić\":\"NI\",\n",
    "    \"Živi zid\":\"NI\",\n",
    "    \"Coalition Amsterdamska koalicija (HL + PGS + HSU + IDS + HSS + GLAS + Demokrati)\":\"Renew Europe\",\n",
    "    \"Tėvynės sąjunga - Lietuvos krikščionys demokratai\":\"EPP\",\n",
    "    \"Lietuvos socialdemokratų partija\":\"SD\",\n",
    "    \"Lietuvos Valstiečių ir Žaliųjų Sąjunga\":\"Greens/EFA\",\n",
    "    \"Darbo partija\":\"Renew Europe\",\n",
    "    \"Lietuvos Respublikos liberalų sąjūdis\":\"Renew Europe\",\n",
    "    \"Visuomeninis rinkimų komitetas Aušros Maldeikienės traukinys\":\"EPP\",\n",
    "    \"Lietuvos lenkų rinkimų akcija - krikščioniškų šeimų sąjunga\":\"ECR\",\n",
    "    \"Coalition (SDS + SLS)\":\"EPP\",\n",
    "    \"Socialni demokrati\":\"SD\",\n",
    "    \"Lista Marjana Šarca\":\"Renew Europe\",\n",
    "    \"Nova Slovenija\":\"EPP\",\n",
    "    \"Jaunā Vienotība\":\"EPP\",\n",
    "    \"Saskaņa Sociāldemokrātiskā partija\":\"SD\",\n",
    "    \"Coalition Nacionālā apvienība (TB/LNNK+VL!)\":\"ECR\",\n",
    "    \"Coalition AP! (Latvijas attīstībai + Par!)\":\"Renew Europe\",\n",
    "    \"Latvijas Krievu savienībā\":\"EFA\",\n",
    "    \"Eesti Reformierakond\":\"Renew Europe\",\n",
    "    \"Sotsiaaldemokraatlik Erakond\":\"SD\",\n",
    "    \"Eesti Keskerakond\":\"Renew Europe\",\n",
    "    \"Eesti Konservatiivne Rahvaerakond\":\"ID\",\n",
    "    \"Demokratesch Partei/Parti démocratique\":\"Renew Europe\",\n",
    "    \"Chrëschtlech-Sozial Vollekspartei/Parti populaire chrétien-social\":\"EPP\",\n",
    "    \"Déi Gréng/Les Verts\":\"Greens/EFA\",\n",
    "    \"Lëtzebuerger Sozialistesch Aarbechterpartei/Parti ouvrier socialiste luxembourgeois\":\"SD\",\n",
    "    \"Partit Laburista/Malta Labour Party\":\"SD\",\n",
    "    \"Partit Nazzjonalista/Nationalist Party\":\"EPP\"\n",
    "}"
   ]
  },
  {
   "cell_type": "markdown",
   "metadata": {
    "collapsed": false
   },
   "source": [
    "#### A Closer look at the Distribution of Seats:\n",
    "The dictionary \"seats\" contains all parties represented in the European Parliament and their number of seats. The dataset is based on the composition of the European Parliament in the year [2019](https://www.europarl.europa.eu/election-results-2019/en ). This data is used later to verify the balance of our obtained sample. \n",
    "\n",
    "A similar dictionary could be constructed for the parties and the countries they stem from, but is not done is this notebook. However, balance across the latter variable will be checked at the end of this notebook."
   ]
  },
  {
   "cell_type": "code",
   "execution_count": 3,
   "metadata": {
    "collapsed": false
   },
   "outputs": [
   ],
   "source": [
    "seats = {\n",
    "    \"Christlich Demokratische Union Deutschlands\":29,\n",
    "    \"Die Grünen\":21,\n",
    "    \"Sozialdemokratische Partei Deutschlands\":16,\n",
    "    \"Alternative für Deutschland\":11,\n",
    "    \"Die Linke\":5,\n",
    "    \"Freie Demokratische Partei\":5,\n",
    "    \"Freie Wähler\":2,\n",
    "    \"PARTEI MENSCH UMWELT TIERSCHUTZ\":1,\n",
    "    \"Ökologisch-Demokratische Partei\":1,\n",
    "    \"Piratenpartei Deutschland\":1,\n",
    "    \"Familien-Partei Deutschlands\":1,\n",
    "    \"VOLT\":1,\n",
    "    \"Partei für Arbeit, Rechtsstaat, Tierschutz, Elitenförderung und basisdemokratische Initiative\":2,\n",
    "    \"Rassemblement national\":22,\n",
    "    \"Coalition Renaissance\":21,\n",
    "    \"Europe écologie-Les verts\":12,\n",
    "    \"Les Républicains\":8,\n",
    "    \"France insoumise\":6,\n",
    "    \"Coalition Envie d'Europe écologique et sociale\":5,\n",
    "    \"Lega Salvini Premier\":28,\n",
    "    \"Partito Democratico\":19,\n",
    "    \"Movimento Cinque Stelle\":14,\n",
    "    \"Forza Italia\":6,\n",
    "    \"Fratelli d'Itali\":5,\n",
    "    \"Südtiroler Volkspartei\":1,\n",
    "    \"Partido Socialista Obrero Español + Partido de los Socialistas de Cataluña\":20,\n",
    "    \"Partido Popular\":12,\n",
    "    \"Ciudadanos - Partido de la Ciudadanía\":7,\n",
    "    \"Coalition Unidas Podemos Cambiar Europa (UP + IU + Catalunya en Comú + Barcelona en Comú)\":5,\n",
    "    \"Coalition Unidas Podemos Cambiar Europa (UP + IU + Catalunya en Comú + Barcelona en Comú)2\":1,\n",
    "    \"VOX \":3,\n",
    "    \"Coalition Ahora Repúblicas (ERC + Bildu + BNG)\":1,\n",
    "    \"Coalition Ahora Repúblicas (ERC + Bildu + BNG)2\":1,\n",
    "    \"Coalition Ahora Repúblicas (ERC + Bildu + BNG)3\":1,\n",
    "    \"Coal LLIURES PER EUROPA (JUNTS) (PdCat + JXCat)\":2,\n",
    "    \"Coalition por una Europa Solidaria (EAJ-PNV + CC + CxG + Atarrabia Taldea + El Pi + Demòcrates Valencians)\":1,\n",
    "    \"Prawo i Sprawiedliwoś\":26,\n",
    "    \"Coalition Koalicja Europejska (PO + PSL + SLD + .N + Z)\":17,\n",
    "    \"Coalition Koalicja Europejska (PO + PSL + SLD + .N + Z)2\":5,\n",
    "    \"Wiosna\":3,\n",
    "    \"Partidul Naţional Liberal\":10,\n",
    "    \"Partidul Social Democrat\":8,\n",
    "    \"Coalition 2020 USR + PLUS Alliance (USR+PLUS)\":8,\n",
    "    \"Partidul Pro Romania\":2,\n",
    "    \"Partidul Mișcarea Populară\":2,\n",
    "    \"Romániai Magyar Demokrata Szövetség/Uniunea Democrată Maghiară din România\":2,\n",
    "    \"Partij van de Arbeid\":6,\n",
    "    \"Volkspartij voor Vrijheid en Democratie\":4,\n",
    "    \"Christen-Democratisch Appèl\":4,\n",
    "    \"Forum voor Democratie\":3,\n",
    "    \"GroenLinks\":3,\n",
    "    \"Democraten 66\":2,\n",
    "    \"Coalition ChristenUnie - Staatkundig Gereformeerde Partij\":1,\n",
    "    \"Coalition ChristenUnie - Staatkundig Gereformeerde Partij2\":1,\n",
    "    \"Partij voor de Dieren\":1,\n",
    "    \"50+\":1,\n",
    "    \"Nieuw-Vlaamse Alliantie\":3,\n",
    "    \"Vlaams Belang\":3,\n",
    "    \"Parti Socialiste\":2,\n",
    "    \"Open Vlaamse Liberalen en Democraten\":2,\n",
    "    \"Christen-Democratisch & Vlaams\":2,\n",
    "    \"Ecologistes Confédérés pour l'Organisation de Luttes Originales\":2,\n",
    "    \"Mouvement Réformateur\":2,\n",
    "    \"Groen\":1,\n",
    "    \"Socialistische Partij - Anders\":1,\n",
    "    \"Parti du Travail de Belgique\":1,\n",
    "    \"Centre Démocrate Humaniste\":1,\n",
    "    \"Christlich Soziale Partei\":1,\n",
    "    \"New Democracy\":8,\n",
    "    \"Coalition of the Radical Left\":6,\n",
    "    \"Movement for Change (ΠΑΣΟΚ + ΔΗΣΥ + ΚΙΔΗΣΟ / PASOK + DISI + KIDISO) \":2,\n",
    "    \"Communist Party of Greece\":2,\n",
    "    \"Golden Dawn\":2,\n",
    "    \"Greek Solution\":1,\n",
    "    \"ANO 2011\":6,\n",
    "    \"Občanská demokratická strana\":4,\n",
    "    \"Česká pirátská strana\":3,\n",
    "    \"STAROSTOVÉ (STAN) s regionálními partnery a TOP 09\":3,\n",
    "    \"Svoboda a přímá demokracie\":2,\n",
    "    \"Křesťanská a demokratická unie – Československá strana lidová\":2,\n",
    "    \"Komunistická strana Čech a Moravy\":1,\n",
    "    \"Partido Socialista\":9,\n",
    "    \"Partido Social Democrata\":6,\n",
    "    \"Bloco de Esquerda\":2,\n",
    "    \"Coligação Democrática Unitária (PCP + PEV)\":2,\n",
    "    \"CDS - Partido Popular\":1,\n",
    "    \"Pessoas–Animais–Natureza\":1,\n",
    "    \"Socialdemokraterna\":5,\n",
    "    \"Moderaterna\":4,\n",
    "    \"Sverigedemokraterna\":3,\n",
    "    \"Miljöpartiet de Gröna\":2,\n",
    "    \"Centerpartiet\":2,\n",
    "    \"Kristdemokraterna\":2,\n",
    "    \"Vänsterpartiet\":1,\n",
    "    \"Liberalerna\":1,\n",
    "    \"Coalition (FIDESZ + KDNP)\":13,\n",
    "    \"Demokratikus Koalíció\":4,\n",
    "    \"Momentum Mozgalom\":2,\n",
    "    \"Coalition (MSZP + Párbeszéd)\":1,\n",
    "    \"Jobbik Magyarországért Mozgalom\":1,\n",
    "    \"Österreichische Volkspartei\":7,\n",
    "    \"Sozialdemokratische Partei Österreich\":5,\n",
    "    \"Freiheitliche Partei Österreichs\":3,\n",
    "    \"Die Grünen - Die Grüne Alternative\":2,\n",
    "    \"NEOS - Das neue Österreich\":1,\n",
    "    \"Coalition (GERB/ГЕРБ\":6,\n",
    "    \"Bulgarska sotsialisticheska partiya\":5,\n",
    "    \"Dvizhenie za prava i svobodi\":3,\n",
    "    \"VMRO - Bulgarsko Natsionalno Dvizhenie\":2,\n",
    "    \"Demokratichna Bulgaria \":1,\n",
    "    \"Venstre, Danmarks Liberale Parti\":3,\n",
    "    \"Socialdemokratiet\":3,\n",
    "    \"Socialistisk Folkeparti\":2,\n",
    "    \"Det Radikale Venstre\":2,\n",
    "    \"Dansk Folkeparti\":1,\n",
    "    \"Det Konservative Folkeparti\":1,\n",
    "    \"Enhedslisten, de Rød-Grønne\":1,\n",
    "    \"Kansallinen Kokoomus\":3,\n",
    "    \"Vihreä liitto\":2,\n",
    "    \"Suomen Sosialidemokraattinen Puolue/Finlands Socialdemokratiska Parti\":2,\n",
    "    \"Perussuomalaiset\":2,\n",
    "    \"Suomen Keskusta\":2,\n",
    "    \"Vasemmistoliitto\":1,\n",
    "    \"Svenska folkpartiet (Ruotsalainen kansanpuolue)\":1,\n",
    "    \"Coalition (PS + SPOLU)\":3,\n",
    "    \"Coalition (PS + SPOLU)2\":1,\n",
    "    \"SMER - Sociálna demokracia\":3,\n",
    "    \"Kotleba - Ľudová strana Naše Slovensko\":2,\n",
    "    \"Sloboda a Solidarita\":2,\n",
    "    \"Kresťanskodemokratické hnutie\":1,\n",
    "    \"Coalition (OL'aNO + NOVA)\":1,\n",
    "    \"Fine Gael Party\":4,\n",
    "    \"Green Party\":2,\n",
    "    \"Independents 4 Change\":2,\n",
    "    \"Fianna Fáil Party\":1,\n",
    "    \"Sinn Féin\":1,\n",
    "    \"Independents\":1,\n",
    "    \"Hrvatska demokratska zajednica\":4,\n",
    "    \"Socijaldemokratska partija Hrvatske\":3,\n",
    "    \"Coalition Hrvatski suverenisti\":1,\n",
    "    \"Independent Mislav Kolakušić\":1,\n",
    "    \"Živi zid\":1,\n",
    "    \"Coalition Amsterdamska koalicija (HL + PGS + HSU + IDS + HSS + GLAS + Demokrati)\":1,\n",
    "    \"Tėvynės sąjunga - Lietuvos krikščionys demokratai\":3,\n",
    "    \"Lietuvos socialdemokratų partija\":2,\n",
    "    \"Lietuvos Valstiečių ir Žaliųjų Sąjunga\":2,\n",
    "    \"Darbo partija\":1,\n",
    "    \"Lietuvos Respublikos liberalų sąjūdis\":1,\n",
    "    \"Visuomeninis rinkimų komitetas Aušros Maldeikienės traukinys\":1,\n",
    "    \"Lietuvos lenkų rinkimų akcija - krikščioniškų šeimų sąjunga\":1,\n",
    "    \"Coalition (SDS + SLS)\":3,\n",
    "    \"Socialni demokrati\":2,\n",
    "    \"Lista Marjana Šarca\":2,\n",
    "    \"Nova Slovenija\":1,\n",
    "    \"Jaunā Vienotība\":2,\n",
    "    \"Saskaņa Sociāldemokrātiskā partija\":2,\n",
    "    \"Coalition Nacionālā apvienība (TB/LNNK+VL!)\":2,\n",
    "    \"Coalition AP! (Latvijas attīstībai + Par!)\":1,\n",
    "    \"Latvijas Krievu savienībā\":1,\n",
    "    \"Eesti Reformierakond\":2,\n",
    "    \"Sotsiaaldemokraatlik Erakond\":2,\n",
    "    \"Eesti Keskerakond\":1,\n",
    "    \"Eesti Konservatiivne Rahvaerakond\":1,\n",
    "    \"Demokratesch Partei/Parti démocratique\":2,\n",
    "    \"Chrëschtlech-Sozial Vollekspartei/Parti populaire chrétien-social\":2,\n",
    "    \"Déi Gréng/Les Verts\":1,\n",
    "    \"Lëtzebuerger Sozialistesch Aarbechterpartei/Parti ouvrier socialiste luxembourgeois\":1,\n",
    "    \"Partit Laburista/Malta Labour Party\":4,\n",
    "    \"Partit Nazzjonalista/Nationalist Party\":2\n",
    "}"
   ]
  },
  {
   "cell_type": "markdown",
   "metadata": {
    "collapsed": false
   },
   "source": [
    "The following code reveals that the distribution of seats across the national parties represented in the European Parliament is strongly skewed. Moreover, the dataset contains 169 parties, this number is slightly different from the initial election results, according to which there are [163](https://www.europarl.europa.eu/election-results-2019/en) unique national parties represented in the European Parliament. The difference is due to some MEPs switching party groups over the course of the term. A final important feature this data reveals, is that stratification based on the *number* of parties each Party Group comprises is not expected to result in major biases. This is further confirmed by creating the top-10 ranking of parties based on the number of seats they hold:\n",
    "\n",
    "    - 1. Christlich Demokratische Union Deutschlands (EPP), seats:29\n",
    "    - 2. Lega Salvini Premier (ID), seats:28\n",
    "    - 3. Prawo i Sprawiedliwoś (ECR), seats:26\n",
    "    - 4. Rassemblement national (ID), seats:22\n",
    "    - 5. Die Grünen (Greens/EFA), seats:21\n",
    "    - 6. Coalition Renaissance (Renew Europe), seats:21\n",
    "    - 7. Partido Socialista Obrero Español + Partido de los Socialistas de Cataluña (SD), seats:20\n",
    "    - 8. Partito Democratico (SD), seats:19\n",
    "    - 9. Coalition Koalicja Europejska (PO + PSL + SLD + .N + Z) (EPP), seats:17\n",
    "    - 10. Sozialdemokratische Partei Deutschlands (SD), seats:16"
   ]
  },
  {
   "cell_type": "markdown",
   "metadata": {
    "collapsed": false
   },
   "source": [
    "<a id='section_id'></a>"
   ]
  },
  {
   "cell_type": "code",
   "execution_count": 4,
   "metadata": {
    "collapsed": false
   },
   "outputs": [
    {
     "name": "stdout",
     "output_type": "stream",
     "text": [
      "(Sorted-)distribution of seats: [1, 1, 1, 1, 1, 1, 1, 1, 1, 1, 1, 1, 1, 1, 1, 1, 1, 1, 1, 1, 1, 1, 1, 1, 1, 1, 1, 1, 1, 1, 1, 1, 1, 1, 1, 1, 1, 1, 1, 1, 1, 1, 1, 1, 1, 1, 1, 1, 1, 1, 1, 1, 1, 1, 1, 1, 2, 2, 2, 2, 2, 2, 2, 2, 2, 2, 2, 2, 2, 2, 2, 2, 2, 2, 2, 2, 2, 2, 2, 2, 2, 2, 2, 2, 2, 2, 2, 2, 2, 2, 2, 2, 2, 2, 2, 2, 2, 2, 2, 2, 2, 2, 2, 3, 3, 3, 3, 3, 3, 3, 3, 3, 3, 3, 3, 3, 3, 3, 3, 3, 3, 3, 4, 4, 4, 4, 4, 4, 4, 4, 5, 5, 5, 5, 5, 5, 5, 5, 5, 6, 6, 6, 6, 6, 6, 6, 7, 7, 8, 8, 8, 8, 9, 10, 11, 12, 12, 13, 14, 16, 17, 19, 20, 21, 21, 22, 26, 28, 29]\n",
      "Number of parties represented in the European Parliament: 169\n"
     ]
    },
    {
     "data": {
      "image/png": "[encoded data removed]",
      "text/plain": [
       "<Figure size 432x288 with 1 Axes>"
      ]
     },
     "execution_count": 4,
     "metadata": {
      "image/png": {
       "height": 277,
       "width": 384
      }
     },
     "output_type": "execute_result"
    }
   ],
   "source": [
    "seats_2 = []\n",
    "\n",
    "for x in seats.values():\n",
    "    seats_2.append(x)\n",
    "    \n",
    "print(\"(Sorted-)distribution of seats:\", sorted(seats_2))\n",
    "print(\"Number of parties represented in the European Parliament:\", len(seats_2))\n",
    "\n",
    "plt.hist(seats_2, color=\"b\", bins=29)\n",
    "plt.xlabel(\"Number of Seats\")\n",
    "plt.ylabel(\"Number of Parties with x Seats\")\n",
    "plt.title(\"Distribution Number of Seats by Party\")\n",
    "plt.show()"
   ]
  },
  {
   "cell_type": "markdown",
   "metadata": {
    "collapsed": false
   },
   "source": [
    "#### Sorting the population of parties into subsamples based on European Parliament Group affiliation:"
   ]
  },
  {
   "cell_type": "code",
   "execution_count": 5,
   "metadata": {
    "collapsed": false
   },
   "outputs": [
   ],
   "source": [
    "EPP_parties = []\n",
    "SD_parties = []\n",
    "ECR_parties = []\n",
    "Renew_Europe_parties = []\n",
    "GUE_NGL_parties = []\n",
    "Greens_EFA_parties = []\n",
    "ID_parties = []\n",
    "NI_parties = []"
   ]
  },
  {
   "cell_type": "code",
   "execution_count": 6,
   "metadata": {
    "collapsed": false
   },
   "outputs": [
   ],
   "source": [
    "for x,j in population.items():\n",
    "    if j == \"EPP\":\n",
    "        EPP_parties.append(x)"
   ]
  },
  {
   "cell_type": "code",
   "execution_count": 7,
   "metadata": {
    "collapsed": false
   },
   "outputs": [
   ],
   "source": [
    "for x,j in population.items():\n",
    "    if j == \"SD\":\n",
    "        SD_parties.append(x)"
   ]
  },
  {
   "cell_type": "code",
   "execution_count": 8,
   "metadata": {
    "collapsed": false
   },
   "outputs": [
   ],
   "source": [
    "for x,j in population.items():\n",
    "    if j == \"ECR\":\n",
    "        ECR_parties.append(x)"
   ]
  },
  {
   "cell_type": "code",
   "execution_count": 9,
   "metadata": {
    "collapsed": false
   },
   "outputs": [
   ],
   "source": [
    "for x,j in population.items():\n",
    "    if j == \"Renew Europe\":\n",
    "        Renew_Europe_parties.append(x)"
   ]
  },
  {
   "cell_type": "code",
   "execution_count": 10,
   "metadata": {
    "collapsed": false
   },
   "outputs": [
   ],
   "source": [
    "for x,j in population.items():\n",
    "    if j == \"GUE/NGL\":\n",
    "        GUE_NGL_parties.append(x)"
   ]
  },
  {
   "cell_type": "code",
   "execution_count": 11,
   "metadata": {
    "collapsed": false
   },
   "outputs": [
   ],
   "source": [
    "for x,j in population.items():\n",
    "    if j == \"Greens/EFA\":\n",
    "        Greens_EFA_parties.append(x)"
   ]
  },
  {
   "cell_type": "code",
   "execution_count": 12,
   "metadata": {
    "collapsed": false
   },
   "outputs": [
   ],
   "source": [
    "for x,j in population.items():\n",
    "    if j == \"ID\":\n",
    "        ID_parties.append(x)"
   ]
  },
  {
   "cell_type": "code",
   "execution_count": 13,
   "metadata": {
    "collapsed": false
   },
   "outputs": [
   ],
   "source": [
    "for x,j in population.items():\n",
    "    if j == \"NI\":\n",
    "        NI_parties.append(x)"
   ]
  },
  {
   "cell_type": "code",
   "execution_count": 14,
   "metadata": {
    "collapsed": false
   },
   "outputs": [
    {
     "name": "stdout",
     "output_type": "stream",
     "text": [
      "There are 41 parties affiliated to the EPP.\n",
      "There are 27 parties affiliated to the S&D.\n",
      "There are 15 parties affiliated to the ECR\n",
      "There are 30 parties affiliated to Renew Europe.\n",
      "There are 17 parties affiliated to GUE/NGL.\n",
      "There are 20 parties affiliated to the Greens/EFA.\n",
      "There are 9 parties affiliated to the ID.\n",
      "There are 10 parties affiliated to the NI.\n",
      "There are 169 parties in the dataset\n"
     ]
    }
   ],
   "source": [
    "print(\"There are\", len(EPP_parties), \"parties affiliated to the EPP.\")\n",
    "print(\"There are\", len(SD_parties), \"parties affiliated to the S&D.\")\n",
    "print(\"There are\", len(ECR_parties), \"parties affiliated to the ECR\")\n",
    "print(\"There are\", len(Renew_Europe_parties), \"parties affiliated to Renew Europe.\")\n",
    "print(\"There are\", len(GUE_NGL_parties), \"parties affiliated to GUE/NGL.\")\n",
    "print(\"There are\", len(Greens_EFA_parties), \"parties affiliated to the Greens/EFA.\")\n",
    "print(\"There are\", len(ID_parties), \"parties affiliated to the ID.\")\n",
    "print(\"There are\", len(NI_parties), \"parties affiliated to the NI.\")\n",
    "\n",
    "print(\"There are\", len(EPP_parties)+len(SD_parties)+len(ECR_parties)+len(Renew_Europe_parties)+len(GUE_NGL_parties)+len(Greens_EFA_parties)+len(ID_parties)+len(NI_parties), \"parties in the dataset\")"
   ]
  },
  {
   "cell_type": "markdown",
   "metadata": {
    "collapsed": false
   },
   "source": [
    "#### Number-of-parties-to-seats ratio by party group:\n",
    "\n",
    "The number of seats by party group could be easily computed with the data at hand. Yet, for the sake of the length of this appendix we copy-pasted the number from the [website](https://www.europarl.europa.eu/election-results-2019/en) of the European Parliament (*accessed February 22, 2020*)."
   ]
  },
  {
   "cell_type": "code",
   "execution_count": 15,
   "metadata": {
    "collapsed": false
   },
   "outputs": [
    {
     "name": "stdout",
     "output_type": "stream",
     "text": [
      "Parties-to-seats ratio EPP: 0.225\n",
      "Parties-to-seats ratio S&D: 0.175\n",
      "Parties-to-seats ratio ECR: 0.242\n",
      "Parties-to-seats ratio Renew Europe: 0.278\n",
      "Parties-to-seats ratio GUE/NGL: 0.415\n",
      "Parties-to-seats ratio Greens/EFA: 0.27\n",
      "Parties-to-seats ratio ID: 0.123\n",
      "Parties-to-seats ratio NI: 0.175\n"
     ]
    }
   ],
   "source": [
    "def ratio_EPP(): \n",
    "    return round(len(EPP_parties) / 182,3)\n",
    "\n",
    "def ratio_SD(): \n",
    "    return round(len(SD_parties) / 154,3)\n",
    "\n",
    "def ratio_ECR(): \n",
    "    return round(len(ECR_parties) / 62,3)\n",
    "\n",
    "def ratio_Renew_Europe(): \n",
    "    return round(len(Renew_Europe_parties) / 108,3)\n",
    "\n",
    "def ratio_GUE_NGL(): \n",
    "    return round(len(GUE_NGL_parties) / 41,3)\n",
    "\n",
    "def ratio_Greens_EFA(): \n",
    "    return round(len(Greens_EFA_parties) / 74,3)\n",
    "\n",
    "def ratio_ID(): \n",
    "    return round(len(ID_parties) / 73,3)\n",
    "\n",
    "def ratio_NI(): \n",
    "    return round(len(NI_parties) / 57,3)\n",
    "\n",
    "\n",
    "print(\"Parties-to-seats ratio EPP:\", ratio_EPP())\n",
    "print(\"Parties-to-seats ratio S&D:\", ratio_SD())\n",
    "print(\"Parties-to-seats ratio ECR:\", ratio_ECR())\n",
    "print(\"Parties-to-seats ratio Renew Europe:\", ratio_Renew_Europe())\n",
    "print(\"Parties-to-seats ratio GUE/NGL:\", ratio_GUE_NGL())\n",
    "print(\"Parties-to-seats ratio Greens/EFA:\", ratio_Greens_EFA())\n",
    "print(\"Parties-to-seats ratio ID:\", ratio_ID())\n",
    "print(\"Parties-to-seats ratio NI:\", ratio_NI())"
   ]
  },
  {
   "cell_type": "markdown",
   "metadata": {
    "collapsed": false
   },
   "source": [
    "The above ratios indicate that there is substantial variation in the density of European Party Groups. This may indicate that it is less difficult for more dense groups, such as ID, to reach consensus among its members. It will prove interesting to check the party manifestos and voting patterns to explore this hypothesis. Moreover, the difference in density will be another factor we need to take into account when analysing the sample. A similar ratio could be constructed for parties-to-countries, to observe whether there is substantial variation in the number of parties stemming from each member state. The latter ratio is not computed in this notebook."
   ]
  },
  {
   "cell_type": "markdown",
   "metadata": {
    "collapsed": false
   },
   "source": [
    "#### Determining the number of national parties to be sampled from each European Party Group: \n",
    "\n",
    "We decided to drop all non-attached members (NI) from the analysis, because it is deemed too unrealistic to treat these as a relatively homogeneous block."
   ]
  },
  {
   "cell_type": "code",
   "execution_count": 16,
   "metadata": {
    "collapsed": false
   },
   "outputs": [
    {
     "name": "stdout",
     "output_type": "stream",
     "text": [
      "9.0 parties from EPP should be sampled.\n",
      "6.0 parties from SD should be sampled.\n",
      "3.0 parties from ECR should be sampled.\n",
      "7.0 parties from Renew Europe should be sampled.\n",
      "4.0 parties from GUE/NGL should be sampled.\n",
      "4.0 parties from Greens/EFA should be sampled.\n",
      "2.0 parties from ID should be sampled.\n",
      "Sample size is 35.0\n"
     ]
    }
   ],
   "source": [
    "def share_EPP():\n",
    "    return round((len(EPP_parties) / (len(population)-len(NI_parties)) * 35),0)\n",
    "print(share_EPP(), \"parties from EPP should be sampled.\")\n",
    "\n",
    "def share_SD():\n",
    "    return round((len(SD_parties) / (len(population)-len(NI_parties)) * 35),0)\n",
    "print(share_SD(), \"parties from SD should be sampled.\")\n",
    "\n",
    "def share_ECR():\n",
    "    return round((len(ECR_parties) / (len(population)-len(NI_parties)) * 35),0)\n",
    "print(share_ECR(), \"parties from ECR should be sampled.\")\n",
    "\n",
    "def share_Renew_Europe():\n",
    "    return round((len(Renew_Europe_parties) / (len(population)-len(NI_parties)) * 35),0)\n",
    "print(share_Renew_Europe(), \"parties from Renew Europe should be sampled.\")\n",
    "\n",
    "def share_GUE_NGL():\n",
    "    return round((len(GUE_NGL_parties) / (len(population)-len(NI_parties)) * 35),0)\n",
    "print(share_GUE_NGL(), \"parties from GUE/NGL should be sampled.\")\n",
    "\n",
    "def share_Greens_EFA():\n",
    "    return round((len(Greens_EFA_parties) / (len(population)-len(NI_parties)) * 35),0)\n",
    "print(share_Greens_EFA(), \"parties from Greens/EFA should be sampled.\")\n",
    "\n",
    "def share_ID():\n",
    "    return round((len(ID_parties) / (len(population)-len(NI_parties)) * 35),0)\n",
    "print(share_ID(), \"parties from ID should be sampled.\")\n",
    "\n",
    "def total():\n",
    "    return share_EPP()+share_SD()+share_ECR()+share_Renew_Europe()+share_GUE_NGL()+share_Greens_EFA()+share_ID()\n",
    "print(\"Sample size is\", total())"
   ]
  },
  {
   "cell_type": "markdown",
   "metadata": {
    "collapsed": false
   },
   "source": [
    "Comparing the obtained stratified sample proportions to the proportions that would have resulted from stratification based on \"the number of seats by party group in the European Parliament\", yields the following outcome:\n",
    "\n",
    " | Party Group   | Parties           | Seats |\n",
    " | --------------|:-----------------:| -----:| \n",
    " | EPP           | 9                 | 9     |\n",
    " | S&D           | 6                 | 8     |\n",
    " | ECR           | 3                 | 3     |\n",
    " | Renew Europe  | 7                 | 5     |     \n",
    " | GUE/NGL       | 4                 | 2     |\n",
    " | Greens/NGL    | 4                 | 4     |\n",
    " | ID            | 2                 | 4     |\n",
    " | Total         | 35                | 35    |\n",
    "\n",
    "The table illustrates that for 3 out of 7 parties the number of parties sampled is the same. Yet, stratification based on the number of national parties a party group comprises, yields a more representative sample due to more dense groups receiving less weight and less dense groups receiving more weight in the sampling procedure."
   ]
  },
  {
   "cell_type": "markdown",
   "metadata": {
    "collapsed": false
   },
   "source": [
    "#### Randomly selecting a proportional subsample form each European Party Group:"
   ]
  },
  {
   "cell_type": "code",
   "execution_count": 17,
   "metadata": {
    "collapsed": false
   },
   "outputs": [
    {
     "name": "stdout",
     "output_type": "stream",
     "text": [
      "EPP parties used for analysis: [\"Coalition (OL'aNO + NOVA)\", 'Coalition Koalicja Europejska (PO + PSL + SLD + .N + Z)', 'Jaunā Vienotība', 'Partit Nazzjonalista/Nationalist Party', 'Visuomeninis rinkimų komitetas Aušros Maldeikienės traukinys', 'Hrvatska demokratska zajednica', 'Movement for Change (ΠΑΣΟΚ + ΔΗΣΥ + ΚΙΔΗΣΟ / PASOK + DISI + KIDISO) ', 'Christlich Demokratische Union Deutschlands', 'Coalition ChristenUnie - Staatkundig Gereformeerde Partij']\n"
     ]
    }
   ],
   "source": [
    "def subsample_EPP():\n",
    "    return random.sample(EPP_parties, k=9)\n",
    "print(\"EPP parties used for analysis:\", subsample_EPP())"
   ]
  },
  {
   "cell_type": "code",
   "execution_count": 18,
   "metadata": {
    "collapsed": false
   },
   "outputs": [
    {
     "name": "stdout",
     "output_type": "stream",
     "text": [
      "S&D parties used for analysis: ['Saskaņa Sociāldemokrātiskā partija', 'Lietuvos socialdemokratų partija', 'Sozialdemokratische Partei Österreich', 'Socialdemokratiet', 'Socialdemokraterna', 'Partidul Social Democrat']\n"
     ]
    }
   ],
   "source": [
    "def subsample_SD():\n",
    "    return random.sample(SD_parties, k=6)\n",
    "print(\"S&D parties used for analysis:\", subsample_SD())"
   ]
  },
  {
   "cell_type": "code",
   "execution_count": 19,
   "metadata": {
    "collapsed": false
   },
   "outputs": [
    {
     "name": "stdout",
     "output_type": "stream",
     "text": [
      "ECR parties used for analysis: ['VOX ', 'Coalition Nacionālā apvienība (TB/LNNK+VL!)', 'Nieuw-Vlaamse Alliantie']\n"
     ]
    }
   ],
   "source": [
    "def subsample_ECR():\n",
    "    return random.sample(ECR_parties, k=3)\n",
    "print(\"ECR parties used for analysis:\", subsample_ECR())"
   ]
  },
  {
   "cell_type": "code",
   "execution_count": 20,
   "metadata": {
    "collapsed": false
   },
   "outputs": [
    {
     "name": "stdout",
     "output_type": "stream",
     "text": [
      "Renew Europe parties used for analysis: ['Suomen Keskusta', 'Open Vlaamse Liberalen en Democraten', 'Mouvement Réformateur', 'Coalition 2020 USR + PLUS Alliance (USR+PLUS)', 'Eesti Keskerakond', 'Lietuvos Respublikos liberalų sąjūdis', 'Coalition Renaissance']\n"
     ]
    }
   ],
   "source": [
    "def subsample_Renew_Europe():\n",
    "    return random.sample(Renew_Europe_parties, k=7)\n",
    "print(\"Renew Europe parties used for analysis:\", subsample_Renew_Europe())"
   ]
  },
  {
   "cell_type": "code",
   "execution_count": 21,
   "metadata": {
    "collapsed": false
   },
   "outputs": [
    {
     "name": "stdout",
     "output_type": "stream",
     "text": [
      "GUE/NGL parties used for analysis: ['Partij voor de Dieren', 'Coligação Democrática Unitária (PCP + PEV)', 'Komunistická strana Čech a Moravy', 'Die Linke']\n"
     ]
    }
   ],
   "source": [
    "def subsample_GUE_NGL():\n",
    "    return random.sample(GUE_NGL_parties, k=4)\n",
    "print(\"GUE/NGL parties used for analysis:\", subsample_GUE_NGL())"
   ]
  },
  {
   "cell_type": "code",
   "execution_count": 22,
   "metadata": {
    "collapsed": false
   },
   "outputs": [
    {
     "name": "stdout",
     "output_type": "stream",
     "text": [
      "Greens/EFA parties used for analysis: ['Groen', 'Ökologisch-Demokratische Partei', 'Coalition Ahora Repúblicas (ERC + Bildu + BNG)2', 'Česká pirátská strana']\n"
     ]
    }
   ],
   "source": [
    "def subsample_Greens_EFA():\n",
    "    return random.sample(Greens_EFA_parties, k=4)\n",
    "print(\"Greens/EFA parties used for analysis:\", subsample_Greens_EFA())"
   ]
  },
  {
   "cell_type": "code",
   "execution_count": 23,
   "metadata": {
    "collapsed": false
   },
   "outputs": [
    {
     "name": "stdout",
     "output_type": "stream",
     "text": [
      "ID parties used for analysis: ['Perussuomalaiset', 'Vlaams Belang']\n"
     ]
    }
   ],
   "source": [
    "def subsample_ID():\n",
    "    return random.sample(ID_parties, k=2)\n",
    "print(\"ID parties used for analysis:\", subsample_ID())"
   ]
  },
  {
   "cell_type": "markdown",
   "metadata": {
    "collapsed": false
   },
   "source": [
    "#### The stratified random sample to be used in the analysis:"
   ]
  },
  {
   "cell_type": "code",
   "execution_count": 24,
   "metadata": {
    "collapsed": false
   },
   "outputs": [
    {
     "name": "stdout",
     "output_type": "stream",
     "text": [
      "Stratified random sample to be used for the project's analysis: ['Centre Démocrate Humaniste', 'Forza Italia', 'Movement for Change (ΠΑΣΟΚ + ΔΗΣΥ + ΚΙΔΗΣΟ / PASOK + DISI + KIDISO) ', 'Coalition (GERB/ГЕРБ', 'Tėvynės sąjunga - Lietuvos krikščionys demokratai', 'Partidul Mișcarea Populară', 'New Democracy', 'Kristdemokraterna', 'Coalition (SDS + SLS)', 'Partidul Pro Romania', 'Socialistische Partij - Anders', 'Wiosna', 'Partido Socialista Obrero Español + Partido de los Socialistas de Cataluña', 'Partido Socialista', 'Coalition Koalicja Europejska (PO + PSL + SLD + .N + Z)2', 'Nieuw-Vlaamse Alliantie', 'Greek Solution', 'Lietuvos lenkų rinkimų akcija - krikščioniškų šeimų sąjunga', 'Lista Marjana Šarca', 'Fianna Fáil Party', 'Svenska folkpartiet (Ruotsalainen kansanpuolue)', 'Eesti Keskerakond', 'Ciudadanos - Partido de la Ciudadanía', 'Coalition AP! (Latvijas attīstībai + Par!)', 'Venstre, Danmarks Liberale Parti', 'Coalition Unidas Podemos Cambiar Europa (UP + IU + Catalunya en Comú + Barcelona en Comú)', 'Parti du Travail de Belgique', 'Coligação Democrática Unitária (PCP + PEV)', 'Komunistická strana Čech a Moravy', 'Die Grünen', 'GroenLinks', 'Česká pirátská strana', 'Partei für Arbeit, Rechtsstaat, Tierschutz, Elitenförderung und basisdemokratische Initiative', 'Svoboda a přímá demokracie', 'Rassemblement national']\n"
     ]
    }
   ],
   "source": [
    "def subsample():\n",
    "    return subsample_EPP()+subsample_SD()+subsample_ECR()+subsample_Renew_Europe()+subsample_GUE_NGL()+subsample_Greens_EFA()+subsample_ID()\n",
    "print(\"Stratified random sample to be used for the project's analysis:\", subsample())"
   ]
  },
  {
   "cell_type": "markdown",
   "metadata": {
    "collapsed": false
   },
   "source": [
    "**Note:** The output of \"subsample()\" does not match the output of \"subsample_EPP()\", \"subsample_SD()\", \"subsample_ECR()\", etc., as displayed above. Therefore, the output of only \"subsample()\" should be considered for analysis."
   ]
  },
  {
   "cell_type": "markdown",
   "metadata": {
    "collapsed": false
   },
   "source": [
    "## Balance Check\n",
    "\n",
    "Although the obtained sample is fully random, some scepticism about the predictability of the random.sample() function reserved, it is questionable to what extent stratification based on party group yields a sufficiently representative sample in a small-N study. The final section therefore provides a general template which may prove helpful in veryfing balance of unaccounted background variables, such as party density, country of origin, number of seats, gender/age MEPs, etc. \n",
    "\n",
    "This table is constructed manually, but could have been constructed automatically by storing the required information in, for instance, a Panda data frame."
   ]
  },
  {
   "cell_type": "markdown",
   "metadata": {
    "collapsed": false
   },
   "source": [
    "| Party   | Group | Seats | country |\n",
    "| --------------:--------:---------: -----: \n",
    "|Centre Démocrate Humaniste | EPP | 1 | Belgium |\n",
    "|Forza Italia | EPP | 6 | Italy |\n",
    "|Movement for Change (ΠΑΣΟΚ + ΔΗΣΥ + ΚΙΔΗΣΟ / PASOK + DISI + KIDISO)| EPP |2| Greece|\n",
    "|Coalition (GERB/ГЕРБ)| EPP | 6 | Bulgaria|\n",
    "|Tėvynės sąjunga - Lietuvos krikščionys demokratai| EPP | 3 | Lithuania |\n",
    "|Partidul Mișcarea Populară | EPP | 2 | Romania |\n",
    "|New Democracy| EPP | 8 |Greece |\n",
    "|Kristdemokraterna  |EPP| 2 | Sweden|\n",
    "|Coalition (SDS + SLS)  |EPP  | 3  |Slovenia  |\n",
    "|Partidul Pro Romania | S&D | 2 | Romania\n",
    "|Socialistische Partij – Anders | S&D | 1 |Belgium  |\n",
    "|Wiosna |S&D  |3  |Poland |\n",
    "|Partido Socialista Obrero Español + Partido de los Socialistas de Cataluña | S&D |20 | Spain |\n",
    "|Partido Socialista |S&D  |9  |Portugal |\n",
    "|Coalition Koalicja Europejska (PO + PSL + SLD + .N + Z)2 |S&D  |5  | Poland|\n",
    "|Nieuw-Vlaamse Alliantie| ECR |3  |Belgium  |\n",
    "|Greek Solution |ECR  |1  |Greece |\n",
    "|Lietuvos lenkų rinkimų akcija - krikščioniškų šeimų sąjunga  |ECR|1| Lithuania |\n",
    "|Lista Marjana Šarca  | Renew Europe  | 2 |Slovenia |\n",
    "|Fianna Fáil Party  |Renew Europe | 1 |Ireland  |\n",
    "|Svenska folkpartiet (Ruotsalainen kansanpuolue)| Renew Europe  | 1 |Finnland |\n",
    "|Eesti Keskerakond  |Renew Europe |1  |Estonia  |\n",
    "|Ciudadanos - Partido de la Ciudadanía  | Renew Europe  | 7 |Spain  |\n",
    "|Coalition AP! (Latvijas attīstībai + Par!) |Renew Europe | 1 |Latvia |\n",
    "|Venstre, Danmarks Liberale Parti | Renew Europe  | 3 | Denmark |\n",
    "|Coalition Unidas Podemos Cambiar Europa (UP + IU + Catalunya en Comú + Barcelona en Comú)| GUE/NGL |5| Spain |\n",
    "|Parti du Travail de Belgique | GUE/NGL | 1 |Belgium  |\n",
    "|Coligação Democrática Unitária (PCP + PEV) | GUE/NGL | 2 | Portugal  |\n",
    "|Komunistická strana Čech a Moravy  | GUE/NGL |1| Czechia |\n",
    "|Die Grünen | Greens/EFA  |21 | Germany |\n",
    "|GroenLinks | Greens/EFA  | 3 | Netherlands |\n",
    "|Česká pirátská strana| Greens/EFA  |3  |Czechia  |\n",
    "|Partei für Arbeit, Rechtsstaat, Tierschutz, Elitenförderung und basisdemokratische Initiative| Greens/EFA|2|Germany|\n",
    "|Svoboda a přímá demokracie |ID |2  |Czechia|\n",
    "|Rassemblement national |ID | 22  |France |"
   ]
  },
  {
   "cell_type": "markdown",
   "metadata": {
    "collapsed": false
   },
   "source": [
    "The number of parties sampled from each political group is determined by the stratification strategy. The sample distribution of seats is plotted below and matches the distribution of the population statistic as [displayed](#section_id) earlier fairly well. Yet, the top-percentile largest parties, in terms of seats, are somewhat overrepresented while those with 10 to 20 seats are missing in the sample. Moreover, the sample comprises 20 different member states and no member state is represented more than four times in the sample (Belgium). It can therefore be concluded that the sampling procedure yielded a representative sample which can be used for the analysis of the research project. "
   ]
  },
  {
   "cell_type": "code",
   "execution_count": 27,
   "metadata": {
    "collapsed": false
   },
   "outputs": [
    {
     "data": {
      "image/png": "[encoded data removed]",
      "text/plain": [
       "<Figure size 432x288 with 1 Axes>"
      ]
     },
     "execution_count": 27,
     "metadata": {
      "image/png": {
       "height": 277,
       "width": 382
      }
     },
     "output_type": "execute_result"
    }
   ],
   "source": [
    "seats_table = [1,6,2,6,3,2,8,2,3,2,1,3,20,9,5,3,1,1,2,1,1,1,7,1,3,5,1,2,1,21,3,3,2,2,22]\n",
    "\n",
    "plt.hist(seats_table, color=\"coral\", bins=29)\n",
    "plt.xlabel(\"Number of Seats\")\n",
    "plt.ylabel(\"Number of Parties with x Seats\")\n",
    "plt.title(\"Distribution Number of Seats by Party (SAMPLE)\")\n",
    "plt.show()"
   ]
  },
  {
   "cell_type": "code",
   "execution_count": 0,
   "metadata": {
    "collapsed": false
   },
   "outputs": [
   ],
   "source": [
   ]
  }
 ],
 "metadata": {
  "kernelspec": {
   "display_name": "Python 3 (system-wide)",
   "language": "python",
   "metadata": {
    "cocalc": {
     "description": "Python 3 programming language",
     "priority": 100,
     "url": "https://www.python.org/"
    }
   },
   "name": "python3"
  },
  "language_info": {
   "codemirror_mode": {
    "name": "ipython",
    "version": 3
   },
   "file_extension": ".py",
   "mimetype": "text/x-python",
   "name": "python",
   "nbconvert_exporter": "python",
   "pygments_lexer": "ipython3",
   "version": "3.6.9"
  }
 },
 "nbformat": 4,
 "nbformat_minor": 0
}